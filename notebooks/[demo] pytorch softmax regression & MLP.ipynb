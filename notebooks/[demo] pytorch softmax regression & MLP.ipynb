{
 "cells": [
  {
   "cell_type": "code",
   "execution_count": 1,
   "metadata": {},
   "outputs": [],
   "source": [
    "import torch\n",
    "import matplotlib.pyplot as plt\n",
    "plt.rc('font', size=16)\n",
    "\n",
    "%matplotlib inline\n",
    "%config InlineBackend.figure_format = 'retina'"
   ]
  },
  {
   "cell_type": "code",
   "execution_count": 2,
   "metadata": {},
   "outputs": [
    {
     "data": {
      "text/plain": [
       "device(type='cpu')"
      ]
     },
     "execution_count": 2,
     "metadata": {},
     "output_type": "execute_result"
    }
   ],
   "source": [
    "device = torch.device(\"cuda:0\" if torch.cuda.is_available() else \"cpu\")\n",
    "device"
   ]
  },
  {
   "cell_type": "markdown",
   "metadata": {},
   "source": [
    "# 1. Data\n",
    "\n",
    "more on Pytorch **DATASETS** & **DATALOADERS** : https://pytorch.org/tutorials/beginner/basics/data_tutorial.html"
   ]
  },
  {
   "cell_type": "markdown",
   "metadata": {},
   "source": [
    "## 1.1 load dataset\n",
    "\n",
    "### - build-in datasets in pytorch : [torchvision.datasets](https://pytorch.org/vision/stable/datasets.html)\n",
    "\n",
    "### - dataset transforms : [torchvision.transforms](https://pytorch.org/vision/stable/transforms.html)\n",
    "\n",
    "`ToTensor` converts the image data from PIL type to 32-bit floating point tensors. It divides all numbers by 255 so that all pixel values are between 0 and 1."
   ]
  },
  {
   "cell_type": "code",
   "execution_count": 3,
   "metadata": {},
   "outputs": [],
   "source": [
    "import torch.nn as nn\n",
    "from torchvision import datasets, transforms"
   ]
  },
  {
   "cell_type": "code",
   "execution_count": 4,
   "metadata": {},
   "outputs": [
    {
     "name": "stdout",
     "output_type": "stream",
     "text": [
      "Downloading http://fashion-mnist.s3-website.eu-central-1.amazonaws.com/train-images-idx3-ubyte.gz to ../../data/FashionMNIST/raw/train-images-idx3-ubyte.gz\n"
     ]
    },
    {
     "data": {
      "application/vnd.jupyter.widget-view+json": {
       "model_id": "47ae819db559450f807d79aebd26f02b",
       "version_major": 2,
       "version_minor": 0
      },
      "text/plain": [
       "0it [00:00, ?it/s]"
      ]
     },
     "metadata": {},
     "output_type": "display_data"
    },
    {
     "name": "stdout",
     "output_type": "stream",
     "text": [
      "Extracting ../../data/FashionMNIST/raw/train-images-idx3-ubyte.gz to ../../data/FashionMNIST/raw\n",
      "Downloading http://fashion-mnist.s3-website.eu-central-1.amazonaws.com/train-labels-idx1-ubyte.gz to ../../data/FashionMNIST/raw/train-labels-idx1-ubyte.gz\n"
     ]
    },
    {
     "data": {
      "application/vnd.jupyter.widget-view+json": {
       "model_id": "1630338105d54af2a52503c51e3b2d0a",
       "version_major": 2,
       "version_minor": 0
      },
      "text/plain": [
       "0it [00:00, ?it/s]"
      ]
     },
     "metadata": {},
     "output_type": "display_data"
    },
    {
     "name": "stdout",
     "output_type": "stream",
     "text": [
      "Extracting ../../data/FashionMNIST/raw/train-labels-idx1-ubyte.gz to ../../data/FashionMNIST/raw\n",
      "Downloading http://fashion-mnist.s3-website.eu-central-1.amazonaws.com/t10k-images-idx3-ubyte.gz to ../../data/FashionMNIST/raw/t10k-images-idx3-ubyte.gz\n"
     ]
    },
    {
     "data": {
      "application/vnd.jupyter.widget-view+json": {
       "model_id": "78a187ade57a47bdb18cdbd634120f7a",
       "version_major": 2,
       "version_minor": 0
      },
      "text/plain": [
       "0it [00:00, ?it/s]"
      ]
     },
     "metadata": {},
     "output_type": "display_data"
    },
    {
     "name": "stdout",
     "output_type": "stream",
     "text": [
      "Extracting ../../data/FashionMNIST/raw/t10k-images-idx3-ubyte.gz to ../../data/FashionMNIST/raw\n",
      "Downloading http://fashion-mnist.s3-website.eu-central-1.amazonaws.com/t10k-labels-idx1-ubyte.gz to ../../data/FashionMNIST/raw/t10k-labels-idx1-ubyte.gz\n"
     ]
    },
    {
     "data": {
      "application/vnd.jupyter.widget-view+json": {
       "model_id": "86070eb8155f46ceb86b59705660a5c6",
       "version_major": 2,
       "version_minor": 0
      },
      "text/plain": [
       "0it [00:00, ?it/s]"
      ]
     },
     "metadata": {},
     "output_type": "display_data"
    },
    {
     "name": "stdout",
     "output_type": "stream",
     "text": [
      "Extracting ../../data/FashionMNIST/raw/t10k-labels-idx1-ubyte.gz to ../../data/FashionMNIST/raw\n",
      "Processing...\n",
      "Done!\n"
     ]
    },
    {
     "name": "stderr",
     "output_type": "stream",
     "text": [
      "/Users/hhg/opt/anaconda3/lib/python3.7/site-packages/torchvision/datasets/mnist.py:480: UserWarning: The given NumPy array is not writeable, and PyTorch does not support non-writeable tensors. This means you can write to the underlying (supposedly non-writeable) NumPy array using the tensor. You may want to copy the array to protect its data or make it writeable before converting it to a tensor. This type of warning will be suppressed for the rest of this program. (Triggered internally at  /Users/distiller/project/conda/conda-bld/pytorch_1603729051302/work/torch/csrc/utils/tensor_numpy.cpp:141.)\n",
      "  return torch.from_numpy(parsed.astype(m[2], copy=False)).view(*s)\n"
     ]
    }
   ],
   "source": [
    "fmnist_train = datasets.FashionMNIST(\n",
    "    root=\"../../data\", train=True, transform=transforms.ToTensor(), download=True)\n",
    "fmnist_test = datasets.FashionMNIST(\n",
    "    root=\"../../data\", train=False, transform=transforms.ToTensor(), download=True)"
   ]
  },
  {
   "cell_type": "code",
   "execution_count": 5,
   "metadata": {},
   "outputs": [
    {
     "data": {
      "text/plain": [
       "Dataset FashionMNIST\n",
       "    Number of datapoints: 60000\n",
       "    Root location: ../../data\n",
       "    Split: Train\n",
       "    StandardTransform\n",
       "Transform: ToTensor()"
      ]
     },
     "execution_count": 5,
     "metadata": {},
     "output_type": "execute_result"
    }
   ],
   "source": [
    "fmnist_train"
   ]
  },
  {
   "cell_type": "code",
   "execution_count": 6,
   "metadata": {},
   "outputs": [
    {
     "data": {
      "text/plain": [
       "Dataset FashionMNIST\n",
       "    Number of datapoints: 10000\n",
       "    Root location: ../../data\n",
       "    Split: Test\n",
       "    StandardTransform\n",
       "Transform: ToTensor()"
      ]
     },
     "execution_count": 6,
     "metadata": {},
     "output_type": "execute_result"
    }
   ],
   "source": [
    "fmnist_test"
   ]
  },
  {
   "cell_type": "code",
   "execution_count": 7,
   "metadata": {},
   "outputs": [
    {
     "data": {
      "image/png": "[encoded data removed]",
      "text/plain": [
       "<Figure size 936x288 with 5 Axes>"
      ]
     },
     "metadata": {
      "image/png": {
       "height": 174,
       "width": 739
      },
      "needs_background": "light"
     },
     "output_type": "display_data"
    }
   ],
   "source": [
    "labels_map = {\n",
    "    0: \"T-Shirt\",\n",
    "    1: \"Trouser\",\n",
    "    2: \"Pullover\",\n",
    "    3: \"Dress\",\n",
    "    4: \"Coat\",\n",
    "    5: \"Sandal\",\n",
    "    6: \"Shirt\",\n",
    "    7: \"Sneaker\",\n",
    "    8: \"Bag\",\n",
    "    9: \"Ankle Boot\",\n",
    "}\n",
    "\n",
    "fig, axes = plt.subplots(1, 5, figsize=(13, 4))\n",
    "plt.subplots_adjust(hspace=0.001, wspace=0.001)\n",
    "\n",
    "for i in range(5):\n",
    "    image, label = fmnist_train.__getitem__(i)\n",
    "    axes[i].imshow(image.squeeze().numpy())\n",
    "    axes[i].set_title(f'{label} : {labels_map[label]}')\n",
    "    axes[i].axis('off')"
   ]
  },
  {
   "cell_type": "code",
   "execution_count": 8,
   "metadata": {},
   "outputs": [
    {
     "data": {
      "text/plain": [
       "torch.Size([1, 28, 28])"
      ]
     },
     "execution_count": 8,
     "metadata": {},
     "output_type": "execute_result"
    }
   ],
   "source": [
    "ID = 10\n",
    "image, label = fmnist_train.__getitem__(ID)\n",
    "image.shape"
   ]
  },
  {
   "cell_type": "code",
   "execution_count": 9,
   "metadata": {},
   "outputs": [
    {
     "data": {
      "text/plain": [
       "torch.Size([28, 28])"
      ]
     },
     "execution_count": 9,
     "metadata": {},
     "output_type": "execute_result"
    }
   ],
   "source": [
    "image.squeeze().shape # squeeze : removes all dimensions of size 1 (a,1,b,1) -> (a,b)"
   ]
  },
  {
   "cell_type": "code",
   "execution_count": 10,
   "metadata": {},
   "outputs": [
    {
     "data": {
      "text/plain": [
       "numpy.ndarray"
      ]
     },
     "execution_count": 10,
     "metadata": {},
     "output_type": "execute_result"
    }
   ],
   "source": [
    "type(image.squeeze().numpy())"
   ]
  },
  {
   "cell_type": "markdown",
   "metadata": {},
   "source": [
    "## 1.2 DataLoader"
   ]
  },
  {
   "cell_type": "code",
   "execution_count": 11,
   "metadata": {},
   "outputs": [],
   "source": [
    "from torch.utils.data import DataLoader"
   ]
  },
  {
   "cell_type": "code",
   "execution_count": 12,
   "metadata": {},
   "outputs": [],
   "source": [
    "batch_size = 100\n",
    "\n",
    "train_loader = DataLoader(fmnist_train, batch_size=batch_size, shuffle=True)\n",
    "test_loader = DataLoader(fmnist_test, batch_size=batch_size, shuffle=True)"
   ]
  },
  {
   "cell_type": "code",
   "execution_count": 13,
   "metadata": {},
   "outputs": [
    {
     "name": "stdout",
     "output_type": "stream",
     "text": [
      "Feature batch shape: torch.Size([100, 1, 28, 28])\n",
      "Labels batch shape: torch.Size([100])\n"
     ]
    }
   ],
   "source": [
    "# Iterate through DataLoader\n",
    "train_images, train_labels = next(iter(train_loader))\n",
    "print(f\"Feature batch shape: {train_images.shape}\")\n",
    "print(f\"Labels batch shape: {train_labels.shape}\")"
   ]
  },
  {
   "cell_type": "code",
   "execution_count": 14,
   "metadata": {},
   "outputs": [
    {
     "name": "stdout",
     "output_type": "stream",
     "text": [
      "Number of iterations per epoch 600\n"
     ]
    }
   ],
   "source": [
    "print('Number of iterations per epoch', len(train_loader)) # 60000 // batch_size + 1"
   ]
  },
  {
   "cell_type": "code",
   "execution_count": 15,
   "metadata": {},
   "outputs": [
    {
     "data": {
      "image/png": "[encoded data removed]",
      "text/plain": [
       "<Figure size 144x144 with 1 Axes>"
      ]
     },
     "metadata": {
      "image/png": {
       "height": 138,
       "width": 123
      },
      "needs_background": "light"
     },
     "output_type": "display_data"
    }
   ],
   "source": [
    "img = train_images[0].squeeze().numpy() # train_images[0].shape = (1, 28, 28)\n",
    "                                        # train_images[0].squeeze().shape = (28,28)\n",
    "                                        # tensor.numpy() -> transform pytorch tensor to numpy array\n",
    "label = int(train_labels[0].numpy())\n",
    "\n",
    "# plot\n",
    "plt.figure(figsize=(2, 2))\n",
    "plt.imshow(img)\n",
    "plt.title(f'{label} : {labels_map[label]}')\n",
    "plt.axis('off')\n",
    "plt.show()"
   ]
  },
  {
   "cell_type": "markdown",
   "metadata": {},
   "source": [
    "# 2. Model\n",
    "\n",
    "### [torch.nn](https://pytorch.org/tutorials/beginner/nn_tutorial.html) modules -- a base class used to develop all neural network models"
   ]
  },
  {
   "cell_type": "code",
   "execution_count": 16,
   "metadata": {},
   "outputs": [],
   "source": [
    "import torch.nn as nn"
   ]
  },
  {
   "cell_type": "code",
   "execution_count": 17,
   "metadata": {},
   "outputs": [],
   "source": [
    "input_size = 28*28\n",
    "output_size = 10\n",
    "hidden_size = 256\n",
    "\n",
    "## --- Model 1 (d2l §3.5 ~ §3.7) -------------------------\n",
    "## ------ Softmax Regression (single layer network) ------\n",
    "## -------------------------------------------------------\n",
    "\n",
    "class SoftmaxRegressionNet(nn.Module):\n",
    "    def __init__(self, input_size, output_size):\n",
    "        super().__init__()\n",
    "        self.input_size = input_size\n",
    "        self.linear = nn.Linear(input_size, output_size)\n",
    "    \n",
    "    def forward(self, x):\n",
    "        o = self.linear(x)              # o : output logits (Note! softmax activation not applied yet.)\n",
    "        return o\n",
    "\n",
    "## --- Model 2 (d2l §4.2 ~ §4.3) -------------------------\n",
    "## ------ MLP with 1 hidden layer (2 layer network) ------ \n",
    "## -------------------------------------------------------\n",
    "\n",
    "class MLP(nn.Module):\n",
    "    def __init__(self, input_size, hidden_size, output_size):\n",
    "        super().__init__()\n",
    "        self.input_size = input_size\n",
    "        \n",
    "        self.linear1 = nn.Linear(input_size, hidden_size)\n",
    "        self.relu = nn.ReLU()\n",
    "        self.linear2 = nn.Linear(hidden_size, output_size)\n",
    "    \n",
    "    def forward(self, x):            \n",
    "        o = self.linear1(x)\n",
    "        o = self.relu(o)\n",
    "        o = self.linear2(o)\n",
    "        return o"
   ]
  },
  {
   "cell_type": "code",
   "execution_count": 18,
   "metadata": {},
   "outputs": [
    {
     "data": {
      "text/plain": [
       "MLP(\n",
       "  (linear1): Linear(in_features=784, out_features=256, bias=True)\n",
       "  (relu): ReLU()\n",
       "  (linear2): Linear(in_features=256, out_features=10, bias=True)\n",
       ")"
      ]
     },
     "execution_count": 18,
     "metadata": {},
     "output_type": "execute_result"
    }
   ],
   "source": [
    "#model = SoftmaxRegressionNet(input_size, output_size)\n",
    "model = MLP(input_size, hidden_size, output_size)\n",
    "model.to(device)"
   ]
  },
  {
   "cell_type": "code",
   "execution_count": 19,
   "metadata": {},
   "outputs": [
    {
     "name": "stdout",
     "output_type": "stream",
     "text": [
      "TOTAL  : 203530\n"
     ]
    }
   ],
   "source": [
    "# count model parameters\n",
    "print('TOTAL  :', sum(param.numel() for param in model.parameters() if param.requires_grad))"
   ]
  },
  {
   "cell_type": "markdown",
   "metadata": {},
   "source": [
    "# 3. Loss"
   ]
  },
  {
   "cell_type": "code",
   "execution_count": 20,
   "metadata": {},
   "outputs": [],
   "source": [
    "criterion = nn.CrossEntropyLoss()"
   ]
  },
  {
   "cell_type": "markdown",
   "metadata": {},
   "source": [
    "Usage : `loss = criterion(Y_pred, Y)`\n",
    "\n",
    "**Careful!** <br>\n",
    "`nn.CrossEntropyLoss` applies: ``nn.LogSoftmax`` and ``nn.NLLLoss`` (negative log likelihood loss). <br>\n",
    "So don't apply softmax in the forward loop. <br>\n",
    "``Y`` is class (digit) labels, not one-hot!   <br>\n",
    "``Y_pred`` has raw scores (logits), no Softmax!"
   ]
  },
  {
   "cell_type": "markdown",
   "metadata": {},
   "source": [
    "# 4. Optimization"
   ]
  },
  {
   "cell_type": "code",
   "execution_count": 21,
   "metadata": {},
   "outputs": [],
   "source": [
    "import torch.optim as optim"
   ]
  },
  {
   "cell_type": "code",
   "execution_count": 22,
   "metadata": {},
   "outputs": [],
   "source": [
    "learning_rate = 0.1\n",
    "optimizer = torch.optim.SGD(model.parameters(), lr=learning_rate)"
   ]
  },
  {
   "cell_type": "markdown",
   "metadata": {},
   "source": [
    "# 5. Training Loop\n",
    "\n",
    "### loss.backward() : calculate dloss/dw_i \n",
    "\n",
    "### optimizer.step()  : update network parameters (w_i)\n",
    "\n",
    "### optimizer.zero_grad() \n",
    "Whenever `loss.backward()` is called, it'll write the gradients and accumulate them in the w_i.grad attribute. <br>\n",
    "e.g. try to print out `model.linear1.weight.grad` <br>\n",
    "So we need to call `optimizer.zero_grad()` to zero gradient again and again for every iteration."
   ]
  },
  {
   "cell_type": "code",
   "execution_count": 23,
   "metadata": {},
   "outputs": [
    {
     "name": "stdout",
     "output_type": "stream",
     "text": [
      "epoch 1/10, step 200/600, loss=0.6474\n",
      "epoch 1/10, step 400/600, loss=0.4925\n",
      "epoch 1/10, step 600/600, loss=0.5004\n",
      "--- End epoch 1 training, accuracy = 76.63%, avgLoss = 0.6824\n",
      "epoch 2/10, step 200/600, loss=0.6122\n",
      "epoch 2/10, step 400/600, loss=0.3900\n",
      "epoch 2/10, step 600/600, loss=0.4404\n",
      "--- End epoch 2 training, accuracy = 83.29%, avgLoss = 0.4716\n",
      "epoch 3/10, step 200/600, loss=0.5268\n",
      "epoch 3/10, step 400/600, loss=0.5635\n",
      "epoch 3/10, step 600/600, loss=0.4728\n",
      "--- End epoch 3 training, accuracy = 85.29%, avgLoss = 0.4174\n",
      "epoch 4/10, step 200/600, loss=0.3626\n",
      "epoch 4/10, step 400/600, loss=0.4187\n",
      "epoch 4/10, step 600/600, loss=0.3936\n",
      "--- End epoch 4 training, accuracy = 86.15%, avgLoss = 0.3900\n",
      "epoch 5/10, step 200/600, loss=0.3520\n",
      "epoch 5/10, step 400/600, loss=0.4255\n",
      "epoch 5/10, step 600/600, loss=0.5084\n",
      "--- End epoch 5 training, accuracy = 86.76%, avgLoss = 0.3699\n",
      "epoch 6/10, step 200/600, loss=0.4321\n",
      "epoch 6/10, step 400/600, loss=0.3819\n",
      "epoch 6/10, step 600/600, loss=0.4184\n",
      "--- End epoch 6 training, accuracy = 87.33%, avgLoss = 0.3535\n",
      "epoch 7/10, step 200/600, loss=0.2836\n",
      "epoch 7/10, step 400/600, loss=0.4043\n",
      "epoch 7/10, step 600/600, loss=0.2023\n",
      "--- End epoch 7 training, accuracy = 87.72%, avgLoss = 0.3384\n",
      "epoch 8/10, step 200/600, loss=0.3593\n",
      "epoch 8/10, step 400/600, loss=0.3362\n",
      "epoch 8/10, step 600/600, loss=0.2186\n",
      "--- End epoch 8 training, accuracy = 88.14%, avgLoss = 0.3280\n",
      "epoch 9/10, step 200/600, loss=0.5180\n",
      "epoch 9/10, step 400/600, loss=0.4941\n",
      "epoch 9/10, step 600/600, loss=0.3080\n",
      "--- End epoch 9 training, accuracy = 88.53%, avgLoss = 0.3193\n",
      "epoch 10/10, step 200/600, loss=0.2565\n",
      "epoch 10/10, step 400/600, loss=0.3456\n",
      "epoch 10/10, step 600/600, loss=0.4731\n",
      "--- End epoch 10 training, accuracy = 88.84%, avgLoss = 0.3091\n"
     ]
    }
   ],
   "source": [
    "num_epochs = 10\n",
    "\n",
    "# training loop\n",
    "n_total_steps = len(train_loader)\n",
    "\n",
    "train_loss = []\n",
    "train_acc  = []\n",
    "for epoch in range(num_epochs):\n",
    "    running_loss = 0.\n",
    "    running_corrects = 0\n",
    "    for i, (images, labels) in enumerate(train_loader):\n",
    "        # reshape images with torch.view (size -1 is inferred from other dimensions) and push it to the device\n",
    "        # 100, 1, 28, 28\n",
    "        # 100, 784 (784-> input_size)\n",
    "        images = images.reshape(-1, 28*28).to(device) \n",
    "        labels = labels.to(device)\n",
    "        \n",
    "        # forward\n",
    "        outputs = model(images)\n",
    "        \n",
    "        # loss\n",
    "        loss = criterion(outputs, labels) # predicted outputs v.s. actual labels\n",
    "        \n",
    "        # backwards\n",
    "        optimizer.zero_grad()  # zero gradient\n",
    "        loss.backward()        # loss.backward would calculate dloss/dw_i  \n",
    "        optimizer.step()       # update network parameters (w_i)\n",
    "        \n",
    "        # compute statistics (avg. loss, accuracy)\n",
    "        running_loss += loss.item() * labels.size(0)\n",
    "        _, predictions = torch.max(outputs, 1)\n",
    "        running_corrects += torch.sum(predictions == labels.data)\n",
    "        \n",
    "        if (i+1)%200 == 0: # every 200 steps, print something\n",
    "            print(f'epoch {epoch+1}/{num_epochs}, step {i+1}/{n_total_steps}, loss={loss.item():.4f}')\n",
    "    \n",
    "    epoch_loss = running_loss / len(fmnist_train)            ; train_loss.append(epoch_loss)\n",
    "    epoch_acc  = running_corrects / len(fmnist_train) * 100. ; train_acc.append(epoch_acc)\n",
    "    print(f'--- End epoch {epoch+1} training, accuracy = {epoch_acc:.2f}%, avgLoss = {epoch_loss:.4f}')"
   ]
  },
  {
   "cell_type": "code",
   "execution_count": 24,
   "metadata": {},
   "outputs": [
    {
     "name": "stdout",
     "output_type": "stream",
     "text": [
      "accuracy = 87.0%\n"
     ]
    }
   ],
   "source": [
    "# test and evaluation\n",
    "with torch.no_grad():\n",
    "    \n",
    "    n_correct = 0\n",
    "    n_samples = 0\n",
    "    \n",
    "    for images, labels in test_loader:\n",
    "        images = images.reshape(-1, 28*28).to(device)\n",
    "        labels = labels.to(device)\n",
    "        outputs = model(images)\n",
    "        \n",
    "        # compute statistics (avg. loss, accuracy)\n",
    "        _, predictions = torch.max(outputs, 1)\n",
    "        n_correct += torch.sum(predictions == labels.data) # n_correct += (predictions == labels).sum().item()\n",
    "\n",
    "    test_acc = 100.*n_correct/len(test_loader.dataset)\n",
    "    print(f'accuracy = {test_acc}%')"
   ]
  },
  {
   "cell_type": "code",
   "execution_count": 25,
   "metadata": {},
   "outputs": [
    {
     "data": {
      "image/png": "[encoded data removed]",
      "text/plain": [
       "<Figure size 1080x360 with 2 Axes>"
      ]
     },
     "metadata": {
      "image/png": {
       "height": 337,
       "width": 887
      },
      "needs_background": "light"
     },
     "output_type": "display_data"
    }
   ],
   "source": [
    "fig, ax = plt.subplots(1, 2, figsize=(15, 5))\n",
    "plt.rc('font', size=16)\n",
    "\n",
    "ax[0].plot(range(1,11), train_loss, 'o--', label='training set', color='b')\n",
    "ax[1].plot(range(1,11), train_acc, 'o--', label='training set', color='b')\n",
    "\n",
    "\n",
    "ax[1].axhline(test_acc , color='darkred', label='test set')\n",
    "\n",
    "ax[1].set_title(f'test accuracy: {test_acc:.3}%')\n",
    "\n",
    "ax[0].set_ylabel('loss')\n",
    "ax[1].set_ylabel('accuracy')\n",
    "\n",
    "for i in range(2):\n",
    "    ax[i].set_xlabel('epoch')\n",
    "    ax[i].legend(loc='best')"
   ]
  },
  {
   "cell_type": "markdown",
   "metadata": {},
   "source": [
    "# ------------ End ------------"
   ]
  },
  {
   "cell_type": "markdown",
   "metadata": {},
   "source": [
    "## Nice tutorials for learning pytorch\n",
    "\n",
    "- Introduction to PyTorch youtube series https://pytorch.org/tutorials/beginner/introyt.html\n",
    "- https://www.youtube.com/watch?v=EMXfZB8FVUA&list=PLqnslRFeH2UrcDBWF5mfPGpqQDSta6VK4"
   ]
  },
  {
   "cell_type": "code",
   "execution_count": null,
   "metadata": {},
   "outputs": [],
   "source": []
  }
 ],
 "metadata": {
  "kernelspec": {
   "display_name": "Python 3",
   "language": "python",
   "name": "python3"
  },
  "language_info": {
   "codemirror_mode": {
    "name": "ipython",
    "version": 3
   },
   "file_extension": ".py",
   "mimetype": "text/x-python",
   "name": "python",
   "nbconvert_exporter": "python",
   "pygments_lexer": "ipython3",
   "version": "3.8.10"
  }
 },
 "nbformat": 4,
 "nbformat_minor": 5
}
